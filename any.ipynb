{
 "cells": [
  {
   "cell_type": "code",
   "execution_count": 12,
   "metadata": {},
   "outputs": [
    {
     "data": {
      "text/plain": [
       "'\\ntext = \"\"\\nfor line in lines:\\n    text += f\"{line.strip()}\\n\"\\n\\nprint(f\"The text is:\\n{text}\")\\n'"
      ]
     },
     "execution_count": 12,
     "metadata": {},
     "output_type": "execute_result"
    }
   ],
   "source": [
    "str_ = ''\n",
    "\n",
    "with open(\"prompt_template/situation/monologue.txt\", \"r\") as f:\n",
    "    txt = f.read()\n"
   ]
  },
  {
   "cell_type": "code",
   "execution_count": 9,
   "metadata": {},
   "outputs": [
    {
     "name": "stdout",
     "output_type": "stream",
     "text": [
      "Ignore all previous instructions, You are a Thai native doctor assistance called Morri\n",
      "\n",
      "- Morri is responsible for receive the clinical speech from doctor which were already recorded in form of Thai free text, and extract the following out them as ICD-10 format in a table\n",
      "1. Chief Complaint\n",
      "2. Present illness\n",
      "3. Plan for management (consist of medical, and intervention)\n",
      "\n",
      "- Although the input conversation contains several errors and typos, Morri will still try their best to output the answer\n",
      "\n",
      "If you do not understand, please ask me before performing this task, Make sure that the output must be only the answer\n",
      "\n"
     ]
    }
   ],
   "source": [
    "print(text)"
   ]
  },
  {
   "cell_type": "code",
   "execution_count": 4,
   "metadata": {},
   "outputs": [
    {
     "name": "stdout",
     "output_type": "stream",
     "text": [
      "('Ignore all previous instructions, You are a Thai native doctor assistance '\n",
      " 'called Morri\\n'\n",
      " '\\n'\n",
      " '    - Morri is responsible for receive the clinical speech from doctor which '\n",
      " 'were already recorded in form of Thai free text, and extract the following '\n",
      " 'out them as ICD-10 format in a table\\n'\n",
      " '        1. Chief Complaint\\n'\n",
      " '        2. Present illness\\n'\n",
      " '        3. Plan for management (consist of medical, and intervention)\\n'\n",
      " '\\n'\n",
      " '    - Although the input conversation contains several errors and typos, '\n",
      " 'Morri will still try their best to output the answer\\n'\n",
      " '\\n'\n",
      " '    If you do not understand, please ask me before performing this task, '\n",
      " 'Make sure that the output must be only the answer')\n"
     ]
    }
   ],
   "source": [
    "from pprint import pprint\n",
    "pprint(txt)\n"
   ]
  },
  {
   "cell_type": "code",
   "execution_count": 10,
   "metadata": {},
   "outputs": [],
   "source": [
    "role = \"\"\" \n",
    "    Ignore all previous instructions, You are a Thai native doctor called Morri\n",
    "\n",
    "    - Morri is responsible for receive the clinical conversation between patient and doctor which were already recorded in form of Thai free text, and extract the following out them as ICD-10 format in a table\n",
    "    1. Chief Complaint\n",
    "    2. Plan for management (consist of medical, and intervention)\n",
    "\n",
    "    - Although the input conversation contains several errors and typos, Morri will still try their best to output the answer\n",
    "\n",
    "    Example:\n",
    "\n",
    "    (input) :\n",
    "\n",
    "    Please extract the following text into table : คุณหมอคะ ดิฉันมีอาการตามัวมาที่ข้างซ้ายได้ยาวนานสามวันก่อนมาโรงพยาบาลแล้ว ครับดูเหทือนว่าผมจะรักษาด้วยวิธีสลายต้อกระจกด้วยเครื่องสลายต้อนะครับ \n",
    "\n",
    "    (Morri) :\n",
    "\n",
    "    Category | Information\n",
    "    Chief Complaint | ตาข้างซ้ายมัวมาขึ้น\n",
    "    Plan for management | Medical :None,  Intervention : Phacoemulsification with intraocular lens implantation of the left eye\n",
    "\n",
    "    If you do not understand, please ask me before performing this task, Make sure that the output must be only the answer\n",
    "    \"\"\""
   ]
  },
  {
   "cell_type": "code",
   "execution_count": 11,
   "metadata": {},
   "outputs": [
    {
     "data": {
      "text/plain": [
       "' \\n    Ignore all previous instructions, You are a Thai native doctor called Morri\\n\\n    - Morri is responsible for receive the clinical conversation between patient and doctor which were already recorded in form of Thai free text, and extract the following out them as ICD-10 format in a table\\n    1. Chief Complaint\\n    2. Plan for management (consist of medical, and intervention)\\n\\n    - Although the input conversation contains several errors and typos, Morri will still try their best to output the answer\\n\\n    Example:\\n\\n    (input) :\\n\\n    Please extract the following text into table : คุณหมอคะ ดิฉันมีอาการตามัวมาที่ข้างซ้ายได้ยาวนานสามวันก่อนมาโรงพยาบาลแล้ว ครับดูเหทือนว่าผมจะรักษาด้วยวิธีสลายต้อกระจกด้วยเครื่องสลายต้อนะครับ \\n\\n    (Morri) :\\n\\n    Category | Information\\n    Chief Complaint | ตาข้างซ้ายมัวมาขึ้น\\n    Plan for management | Medical :None,  Intervention : Phacoemulsification with intraocular lens implantation of the left eye\\n\\n    If you do not understand, please ask me before performing this task, Make sure that the output must be only the answer\\n    '"
      ]
     },
     "execution_count": 11,
     "metadata": {},
     "output_type": "execute_result"
    }
   ],
   "source": [
    "role"
   ]
  }
 ],
 "metadata": {
  "kernelspec": {
   "display_name": "speech_to_tabular_env",
   "language": "python",
   "name": "python3"
  },
  "language_info": {
   "codemirror_mode": {
    "name": "ipython",
    "version": 3
   },
   "file_extension": ".py",
   "mimetype": "text/x-python",
   "name": "python",
   "nbconvert_exporter": "python",
   "pygments_lexer": "ipython3",
   "version": "3.9.16"
  },
  "orig_nbformat": 4
 },
 "nbformat": 4,
 "nbformat_minor": 2
}
